{
 "cells": [
  {
   "cell_type": "code",
   "execution_count": 5,
   "metadata": {},
   "outputs": [],
   "source": [
    "import pandas as pd\n",
    "from pycoingecko import CoinGeckoAPI\n",
    "cg = CoinGeckoAPI()"
   ]
  },
  {
   "cell_type": "code",
   "execution_count": 13,
   "metadata": {},
   "outputs": [],
   "source": [
    "data_derivatives=cg.get_derivatives()"
   ]
  },
  {
   "cell_type": "code",
   "execution_count": 17,
   "metadata": {},
   "outputs": [
    {
     "data": {
      "text/html": [
       "<div>\n",
       "<style scoped>\n",
       "    .dataframe tbody tr th:only-of-type {\n",
       "        vertical-align: middle;\n",
       "    }\n",
       "\n",
       "    .dataframe tbody tr th {\n",
       "        vertical-align: top;\n",
       "    }\n",
       "\n",
       "    .dataframe thead th {\n",
       "        text-align: right;\n",
       "    }\n",
       "</style>\n",
       "<table border=\"1\" class=\"dataframe\">\n",
       "  <thead>\n",
       "    <tr style=\"text-align: right;\">\n",
       "      <th></th>\n",
       "      <th>index_id</th>\n",
       "      <th>price</th>\n",
       "    </tr>\n",
       "    <tr>\n",
       "      <th>market</th>\n",
       "      <th></th>\n",
       "      <th></th>\n",
       "    </tr>\n",
       "  </thead>\n",
       "  <tbody>\n",
       "    <tr>\n",
       "      <th>Binance (Futures)</th>\n",
       "      <td>BTC</td>\n",
       "      <td>16057.2</td>\n",
       "    </tr>\n",
       "    <tr>\n",
       "      <th>CoinTiger (Futures)</th>\n",
       "      <td>BTC</td>\n",
       "      <td>16018.77</td>\n",
       "    </tr>\n",
       "    <tr>\n",
       "      <th>Bybit</th>\n",
       "      <td>BTC</td>\n",
       "      <td>16051.5</td>\n",
       "    </tr>\n",
       "    <tr>\n",
       "      <th>BitMEX</th>\n",
       "      <td>BXBT</td>\n",
       "      <td>16048.5</td>\n",
       "    </tr>\n",
       "    <tr>\n",
       "      <th>FTX (Derivatives)</th>\n",
       "      <td>BTC</td>\n",
       "      <td>16126.0</td>\n",
       "    </tr>\n",
       "    <tr>\n",
       "      <th>...</th>\n",
       "      <td>...</td>\n",
       "      <td>...</td>\n",
       "    </tr>\n",
       "    <tr>\n",
       "      <th>CoinFLEX (Futures)</th>\n",
       "      <td>BTC</td>\n",
       "      <td>17048.5</td>\n",
       "    </tr>\n",
       "    <tr>\n",
       "      <th>CoinFLEX (Futures)</th>\n",
       "      <td>BTC</td>\n",
       "      <td>16742.5</td>\n",
       "    </tr>\n",
       "    <tr>\n",
       "      <th>FTX (Derivatives)</th>\n",
       "      <td>XAUT</td>\n",
       "      <td>1895.9</td>\n",
       "    </tr>\n",
       "    <tr>\n",
       "      <th>FTX (Derivatives)</th>\n",
       "      <td>BRZ</td>\n",
       "      <td>0.18</td>\n",
       "    </tr>\n",
       "    <tr>\n",
       "      <th>CoinFLEX (Futures)</th>\n",
       "      <td>BCH</td>\n",
       "      <td>253.5</td>\n",
       "    </tr>\n",
       "  </tbody>\n",
       "</table>\n",
       "<p>1070 rows × 2 columns</p>\n",
       "</div>"
      ],
      "text/plain": [
       "                    index_id     price\n",
       "market                                \n",
       "Binance (Futures)        BTC   16057.2\n",
       "CoinTiger (Futures)      BTC  16018.77\n",
       "Bybit                    BTC   16051.5\n",
       "BitMEX                  BXBT   16048.5\n",
       "FTX (Derivatives)        BTC   16126.0\n",
       "...                      ...       ...\n",
       "CoinFLEX (Futures)       BTC   17048.5\n",
       "CoinFLEX (Futures)       BTC   16742.5\n",
       "FTX (Derivatives)       XAUT    1895.9\n",
       "FTX (Derivatives)        BRZ      0.18\n",
       "CoinFLEX (Futures)       BCH     253.5\n",
       "\n",
       "[1070 rows x 2 columns]"
      ]
     },
     "execution_count": 17,
     "metadata": {},
     "output_type": "execute_result"
    }
   ],
   "source": [
    "df_derivatives = pd.DataFrame(data_derivates, columns=['market','index_id','price'])\n",
    "df_derivatives.set_index('market',inplace=True)\n",
    "df_derivatives"
   ]
  },
  {
   "cell_type": "code",
   "execution_count": 21,
   "metadata": {},
   "outputs": [],
   "source": [
    "data_derivative_exchange = cg.get_derivatives_exchanges()"
   ]
  },
  {
   "cell_type": "code",
   "execution_count": 29,
   "metadata": {},
   "outputs": [
    {
     "data": {
      "text/html": [
       "<div>\n",
       "<style scoped>\n",
       "    .dataframe tbody tr th:only-of-type {\n",
       "        vertical-align: middle;\n",
       "    }\n",
       "\n",
       "    .dataframe tbody tr th {\n",
       "        vertical-align: top;\n",
       "    }\n",
       "\n",
       "    .dataframe thead th {\n",
       "        text-align: right;\n",
       "    }\n",
       "</style>\n",
       "<table border=\"1\" class=\"dataframe\">\n",
       "  <thead>\n",
       "    <tr style=\"text-align: right;\">\n",
       "      <th></th>\n",
       "      <th>id</th>\n",
       "      <th>Perpetual Pairs</th>\n",
       "      <th>Future Pairs</th>\n",
       "    </tr>\n",
       "    <tr>\n",
       "      <th>name</th>\n",
       "      <th></th>\n",
       "      <th></th>\n",
       "      <th></th>\n",
       "    </tr>\n",
       "  </thead>\n",
       "  <tbody>\n",
       "    <tr>\n",
       "      <th>Binance (Futures)</th>\n",
       "      <td>binance_futures</td>\n",
       "      <td>86</td>\n",
       "      <td>16</td>\n",
       "    </tr>\n",
       "    <tr>\n",
       "      <th>OKEx (Futures)</th>\n",
       "      <td>okex_swap</td>\n",
       "      <td>94</td>\n",
       "      <td>616</td>\n",
       "    </tr>\n",
       "    <tr>\n",
       "      <th>CoinTiger (Futures)</th>\n",
       "      <td>cointiger_futures</td>\n",
       "      <td>46</td>\n",
       "      <td>0</td>\n",
       "    </tr>\n",
       "    <tr>\n",
       "      <th>Bybit</th>\n",
       "      <td>bybit</td>\n",
       "      <td>9</td>\n",
       "      <td>0</td>\n",
       "    </tr>\n",
       "    <tr>\n",
       "      <th>BitMEX</th>\n",
       "      <td>bitmex</td>\n",
       "      <td>6</td>\n",
       "      <td>51</td>\n",
       "    </tr>\n",
       "  </tbody>\n",
       "</table>\n",
       "</div>"
      ],
      "text/plain": [
       "                                    id  Perpetual Pairs  Future Pairs\n",
       "name                                                                 \n",
       "Binance (Futures)      binance_futures               86            16\n",
       "OKEx (Futures)               okex_swap               94           616\n",
       "CoinTiger (Futures)  cointiger_futures               46             0\n",
       "Bybit                            bybit                9             0\n",
       "BitMEX                          bitmex                6            51"
      ]
     },
     "execution_count": 29,
     "metadata": {},
     "output_type": "execute_result"
    }
   ],
   "source": [
    "df_derivative_exchange = pd.DataFrame(data_derivative_exchange, columns=['name','id','number_of_perpetual_pairs','number_of_futures_pairs'])\n",
    "df_derivative_exchange.set_index('name',inplace=True)\n",
    "df_derivative_exchange.rename(columns = {'number_of_perpetual_pairs':'Perpetual Pairs', 'number_of_futures_pairs':'Future Pairs'}, inplace = True)\n",
    "df_derivative_exchange.head()"
   ]
  },
  {
   "cell_type": "code",
   "execution_count": 37,
   "metadata": {},
   "outputs": [
    {
     "data": {
      "text/plain": [
       "{'name': 'BitMEX',\n",
       " 'open_interest_btc': 51650.47,\n",
       " 'trade_volume_24h_btc': '185293.43',\n",
       " 'number_of_perpetual_pairs': 6,\n",
       " 'number_of_futures_pairs': 51,\n",
       " 'image': 'https://assets.coingecko.com/markets/images/378/small/BitMEX.png?1591671734',\n",
       " 'year_established': None,\n",
       " 'country': 'Seychelles',\n",
       " 'description': '',\n",
       " 'url': 'https://www.bitmex.com/'}"
      ]
     },
     "execution_count": 37,
     "metadata": {},
     "output_type": "execute_result"
    }
   ],
   "source": [
    "cg.get_derivatives_exchanges_by_id(id='bitmex')"
   ]
  },
  {
   "cell_type": "code",
   "execution_count": 33,
   "metadata": {},
   "outputs": [
    {
     "data": {
      "text/plain": [
       "[{'id': 'binance_futures', 'name': 'Binance (Futures)'},\n",
       " {'id': 'okex_swap', 'name': 'OKEx (Futures)'},\n",
       " {'id': 'cointiger_futures', 'name': 'CoinTiger (Futures)'},\n",
       " {'id': 'bybit', 'name': 'Bybit'},\n",
       " {'id': 'bitmex', 'name': 'BitMEX'},\n",
       " {'id': 'ftx', 'name': 'FTX (Derivatives)'},\n",
       " {'id': 'huobi_dm', 'name': 'Huobi Futures'},\n",
       " {'id': 'deribit', 'name': 'Deribit'},\n",
       " {'id': 'bitget_futures', 'name': 'Bitget Futures'},\n",
       " {'id': 'btse_futures', 'name': 'BTSE (Futures)'},\n",
       " {'id': 'bitfinex_futures', 'name': 'Bitfinex (Futures)'},\n",
       " {'id': 'bitz_futures', 'name': 'BitZ (Futures)'},\n",
       " {'id': 'hopex', 'name': 'Hopex'},\n",
       " {'id': 'prime_xbt', 'name': 'Prime XBT'},\n",
       " {'id': 'phemex_futures', 'name': 'Phemex (Futures)'},\n",
       " {'id': 'bitforex_futures', 'name': 'Bitforex (Futures)'},\n",
       " {'id': 'btcmex', 'name': 'BTCMEX'},\n",
       " {'id': 'kumex', 'name': 'KuCoin Futures'},\n",
       " {'id': 'mxc_futures', 'name': 'MXC (Futures)'},\n",
       " {'id': 'kraken_futures', 'name': 'Kraken (Futures)'},\n",
       " {'id': 'gate_futures', 'name': 'Gate.io (Futures)'},\n",
       " {'id': 'aax_futures', 'name': 'AAX Futures'},\n",
       " {'id': 'basefex', 'name': 'BaseFEX'},\n",
       " {'id': 'zbg_futures', 'name': 'ZBG Futures'},\n",
       " {'id': 'mycoinstory', 'name': 'MyCoinStory'},\n",
       " {'id': 'duedex', 'name': 'DueDEX'},\n",
       " {'id': 'dydx_perpetual', 'name': 'dYdX Perpetual'},\n",
       " {'id': 'bitmax_futures', 'name': 'BitMax (Futures)'},\n",
       " {'id': 'poloniex_futures', 'name': 'Poloniex Futures'},\n",
       " {'id': 'bigone_futures', 'name': 'BigONE Futures'},\n",
       " {'id': 'hbtc_futures', 'name': 'HBTC (Futures)'},\n",
       " {'id': 'liquid_derivatives', 'name': 'Liquid Perpetuals'},\n",
       " {'id': 'biki_futures', 'name': 'Biki (Futures)'},\n",
       " {'id': 'jex_futures', 'name': 'Binance JEX (Futures)'},\n",
       " {'id': 'cme_futures', 'name': 'CME Bitcoin Futures'},\n",
       " {'id': 'gmo_japan_futures', 'name': 'GMO Japan (Futures)'},\n",
       " {'id': 'fmex', 'name': 'FMex'},\n",
       " {'id': 'bibox_futures', 'name': 'Bibox (Futures)'},\n",
       " {'id': 'bithumb_futures', 'name': 'Bithumb (Futures)'},\n",
       " {'id': 'mcdex', 'name': 'MCDEX'},\n",
       " {'id': 'bakkt', 'name': 'Bakkt'},\n",
       " {'id': 'bitflyer_futures', 'name': 'Bitflyer (Futures)'},\n",
       " {'id': 'delta_futures', 'name': 'Delta Exchange'},\n",
       " {'id': 'coinflex_futures', 'name': 'CoinFLEX (Futures)'},\n",
       " {'id': 'bitmart_futures', 'name': 'Bitmart Futures'}]"
      ]
     },
     "execution_count": 33,
     "metadata": {},
     "output_type": "execute_result"
    }
   ],
   "source": [
    "cg.get_derivatives_exchanges_list()"
   ]
  }
 ],
 "metadata": {
  "kernelspec": {
   "display_name": "Python 3",
   "language": "python",
   "name": "python3"
  },
  "language_info": {
   "codemirror_mode": {
    "name": "ipython",
    "version": 3
   },
   "file_extension": ".py",
   "mimetype": "text/x-python",
   "name": "python",
   "nbconvert_exporter": "python",
   "pygments_lexer": "ipython3",
   "version": "3.8.3"
  }
 },
 "nbformat": 4,
 "nbformat_minor": 4
}
